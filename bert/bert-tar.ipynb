{
 "cells": [
  {
   "cell_type": "code",
   "execution_count": 2,
   "metadata": {
    "_cell_guid": "b1076dfc-b9ad-4769-8c92-a6c4dae69d19",
    "_uuid": "8f2839f25d086af736a60e9eeb907d3b93b6e0e5",
    "execution": {
     "iopub.execute_input": "2024-06-04T07:51:47.433184Z",
     "iopub.status.busy": "2024-06-04T07:51:47.432581Z",
     "iopub.status.idle": "2024-06-04T07:51:54.067158Z",
     "shell.execute_reply": "2024-06-04T07:51:54.066356Z",
     "shell.execute_reply.started": "2024-06-04T07:51:47.433149Z"
    }
   },
   "outputs": [
    {
     "name": "stderr",
     "output_type": "stream",
     "text": [
      "2024-06-04 07:51:48.639992: E external/local_xla/xla/stream_executor/cuda/cuda_dnn.cc:9261] Unable to register cuDNN factory: Attempting to register factory for plugin cuDNN when one has already been registered\n",
      "2024-06-04 07:51:48.640050: E external/local_xla/xla/stream_executor/cuda/cuda_fft.cc:607] Unable to register cuFFT factory: Attempting to register factory for plugin cuFFT when one has already been registered\n",
      "2024-06-04 07:51:48.641449: E external/local_xla/xla/stream_executor/cuda/cuda_blas.cc:1515] Unable to register cuBLAS factory: Attempting to register factory for plugin cuBLAS when one has already been registered\n"
     ]
    }
   ],
   "source": [
    "import os\n",
    "import pandas as pd\n",
    "from sklearn.model_selection import train_test_split\n",
    "import tensorflow as tf\n",
    "from transformers import TFAutoModel, AutoTokenizer\n",
    "from datasets import Dataset"
   ]
  },
  {
   "cell_type": "code",
   "execution_count": 3,
   "metadata": {
    "execution": {
     "iopub.execute_input": "2024-06-04T07:51:54.069190Z",
     "iopub.status.busy": "2024-06-04T07:51:54.068614Z",
     "iopub.status.idle": "2024-06-04T07:51:56.586184Z",
     "shell.execute_reply": "2024-06-04T07:51:56.585155Z",
     "shell.execute_reply.started": "2024-06-04T07:51:54.069161Z"
    }
   },
   "outputs": [
    {
     "name": "stderr",
     "output_type": "stream",
     "text": [
      "Some weights of the PyTorch model were not used when initializing the TF 2.0 model TFBertModel: ['cls.predictions.transform.dense.weight', 'cls.predictions.transform.dense.bias', 'cls.predictions.transform.LayerNorm.weight', 'cls.seq_relationship.bias', 'cls.predictions.bias', 'cls.seq_relationship.weight', 'cls.predictions.transform.LayerNorm.bias']\n",
      "- This IS expected if you are initializing TFBertModel from a PyTorch model trained on another task or with another architecture (e.g. initializing a TFBertForSequenceClassification model from a BertForPreTraining model).\n",
      "- This IS NOT expected if you are initializing TFBertModel from a PyTorch model that you expect to be exactly identical (e.g. initializing a TFBertForSequenceClassification model from a BertForSequenceClassification model).\n",
      "All the weights of TFBertModel were initialized from the PyTorch model.\n",
      "If your task is similar to the task the model of the checkpoint was trained on, you can already use TFBertModel for predictions without further training.\n"
     ]
    }
   ],
   "source": [
    "# Load BERT model and tokenizer\n",
    "model = TFAutoModel.from_pretrained(\"bert-base-uncased\")\n",
    "tokenizer = AutoTokenizer.from_pretrained(\"bert-base-uncased\")"
   ]
  },
  {
   "cell_type": "code",
   "execution_count": 4,
   "metadata": {
    "execution": {
     "iopub.execute_input": "2024-06-04T07:51:56.588369Z",
     "iopub.status.busy": "2024-06-04T07:51:56.587987Z",
     "iopub.status.idle": "2024-06-04T07:51:56.598503Z",
     "shell.execute_reply": "2024-06-04T07:51:56.597491Z",
     "shell.execute_reply.started": "2024-06-04T07:51:56.588335Z"
    }
   },
   "outputs": [],
   "source": [
    "# Function to tokenize data with reduced max_length\n",
    "def tokenize(batch):\n",
    "    return tokenizer(batch[\"text_combined\"], padding='max_length', truncation=True, max_length=128)\n",
    "\n",
    "english_speaking_countries = ['gb']\n",
    "data_dir = \"/kaggle/input/data-all\"\n",
    "\n",
    "def load_data(file_path):\n",
    "    country_code = file_path.split('-')[1]  # Extract country code from filename\n",
    "    try:\n",
    "        df = pd.read_csv(file_path, delimiter='\\t', quoting=3, on_bad_lines='skip')\n",
    "    except Exception as e:\n",
    "        print(f\"Error reading {file_path}: {e}\")\n",
    "        return pd.DataFrame()\n",
    "    \n",
    "    if country_code in english_speaking_countries:\n",
    "        df['text_combined'] = df['text']\n",
    "    else:\n",
    "        df['text_combined'] = df['text_en']\n",
    "    # Drop rows where 'text_combined' is NaN or empty\n",
    "    df = df.dropna(subset=['text_combined'])\n",
    "    df = df[df['text_combined'] != '']\n",
    "    df['file_path'] = file_path  # Add file path information\n",
    "    return df[['text_combined', 'label', 'file_path']]\n",
    "\n",
    "\n",
    "# Function to split data within each country\n",
    "def train_val_test_split_country(df, test_size=0.2, val_size=0.1):\n",
    "    train_data, test_data = train_test_split(df, test_size=test_size, random_state=42)\n",
    "    train_data, val_data = train_test_split(train_data, test_size=val_size/(1-test_size), random_state=42)\n",
    "    return train_data, val_data, test_data\n"
   ]
  },
  {
   "cell_type": "code",
   "execution_count": 5,
   "metadata": {
    "execution": {
     "iopub.execute_input": "2024-06-04T07:51:58.241008Z",
     "iopub.status.busy": "2024-06-04T07:51:58.240281Z",
     "iopub.status.idle": "2024-06-04T07:52:13.366080Z",
     "shell.execute_reply": "2024-06-04T07:52:13.365090Z",
     "shell.execute_reply.started": "2024-06-04T07:51:58.240976Z"
    }
   },
   "outputs": [],
   "source": [
    "# Combine data from all files, splitting within each country first\n",
    "train_dfs, val_dfs, test_dfs = [], [], []\n",
    "for filename in os.listdir(data_dir):\n",
    "    if filename.endswith(\".tsv\"):\n",
    "        file_path = os.path.join(data_dir, filename)\n",
    "        df = load_data(file_path)\n",
    "        if not df.empty:\n",
    "            train_df, val_df, test_df = train_val_test_split_country(df)\n",
    "            train_dfs.append(train_df)\n",
    "            val_dfs.append(val_df)\n",
    "            test_dfs.append(test_df)\n",
    "\n",
    "# Concatenate all country-specific splits\n",
    "train_data = pd.concat(train_dfs, ignore_index=True)\n",
    "val_data = pd.concat(val_dfs, ignore_index=True)\n",
    "test_data = pd.concat(test_dfs, ignore_index=True)"
   ]
  },
  {
   "cell_type": "code",
   "execution_count": 6,
   "metadata": {
    "execution": {
     "iopub.execute_input": "2024-06-04T07:52:13.367969Z",
     "iopub.status.busy": "2024-06-04T07:52:13.367671Z",
     "iopub.status.idle": "2024-06-04T07:52:17.426513Z",
     "shell.execute_reply": "2024-06-04T07:52:17.425671Z",
     "shell.execute_reply.started": "2024-06-04T07:52:13.367925Z"
    }
   },
   "outputs": [],
   "source": [
    "# Create a Dataset object\n",
    "train_dataset = Dataset.from_pandas(train_data)\n",
    "val_dataset = Dataset.from_pandas(val_data)\n",
    "test_dataset = Dataset.from_pandas(test_data)"
   ]
  },
  {
   "cell_type": "code",
   "execution_count": 7,
   "metadata": {
    "execution": {
     "iopub.execute_input": "2024-06-04T07:52:17.428015Z",
     "iopub.status.busy": "2024-06-04T07:52:17.427693Z",
     "iopub.status.idle": "2024-06-04T07:54:48.659704Z",
     "shell.execute_reply": "2024-06-04T07:54:48.658559Z",
     "shell.execute_reply.started": "2024-06-04T07:52:17.427989Z"
    }
   },
   "outputs": [
    {
     "data": {
      "application/vnd.jupyter.widget-view+json": {
       "model_id": "6ec707ae7a844cb8a57e0cab65ca7a85",
       "version_major": 2,
       "version_minor": 0
      },
      "text/plain": [
       "Map:   0%|          | 0/98145 [00:00<?, ? examples/s]"
      ]
     },
     "metadata": {},
     "output_type": "display_data"
    },
    {
     "data": {
      "application/vnd.jupyter.widget-view+json": {
       "model_id": "22a683e5e0c94582892cc6a539fa81ae",
       "version_major": 2,
       "version_minor": 0
      },
      "text/plain": [
       "Map:   0%|          | 0/14030 [00:00<?, ? examples/s]"
      ]
     },
     "metadata": {},
     "output_type": "display_data"
    },
    {
     "data": {
      "application/vnd.jupyter.widget-view+json": {
       "model_id": "fbd2c2ee9cd541c49c66d44fa3a26fb6",
       "version_major": 2,
       "version_minor": 0
      },
      "text/plain": [
       "Map:   0%|          | 0/28055 [00:00<?, ? examples/s]"
      ]
     },
     "metadata": {},
     "output_type": "display_data"
    }
   ],
   "source": [
    "# Tokenize the datasets\n",
    "train_encoded = train_dataset.map(tokenize, batched=True)\n",
    "val_encoded = val_dataset.map(tokenize, batched=True)\n",
    "test_encoded = test_dataset.map(tokenize, batched=True)"
   ]
  },
  {
   "cell_type": "code",
   "execution_count": 8,
   "metadata": {
    "execution": {
     "iopub.execute_input": "2024-06-04T07:54:48.662239Z",
     "iopub.status.busy": "2024-06-04T07:54:48.661905Z",
     "iopub.status.idle": "2024-06-04T07:54:48.669510Z",
     "shell.execute_reply": "2024-06-04T07:54:48.668636Z",
     "shell.execute_reply.started": "2024-06-04T07:54:48.662205Z"
    }
   },
   "outputs": [],
   "source": [
    "# Set format for TensorFlow\n",
    "train_encoded.set_format('tf', columns=['input_ids', 'attention_mask', 'token_type_ids', 'label'])\n",
    "val_encoded.set_format('tf', columns=['input_ids', 'attention_mask', 'token_type_ids', 'label'])\n",
    "test_encoded.set_format('tf', columns=['input_ids', 'attention_mask', 'token_type_ids', 'label'])\n"
   ]
  },
  {
   "cell_type": "code",
   "execution_count": 9,
   "metadata": {
    "execution": {
     "iopub.execute_input": "2024-06-04T07:54:48.670771Z",
     "iopub.status.busy": "2024-06-04T07:54:48.670515Z",
     "iopub.status.idle": "2024-06-04T07:54:48.795764Z",
     "shell.execute_reply": "2024-06-04T07:54:48.794994Z",
     "shell.execute_reply.started": "2024-06-04T07:54:48.670750Z"
    }
   },
   "outputs": [],
   "source": [
    "# Convert datasets to TensorFlow format\n",
    "def to_tf_dataset(encoded_dataset, batch_size):\n",
    "    def generator():\n",
    "        for example in encoded_dataset:\n",
    "            yield ({'input_ids': example['input_ids'],\n",
    "                    'attention_mask': example['attention_mask'],\n",
    "                    'token_type_ids': example['token_type_ids']}, example['label'])\n",
    "    \n",
    "    return tf.data.Dataset.from_generator(generator,\n",
    "                                          output_signature=(\n",
    "                                              {\n",
    "                                                  'input_ids': tf.TensorSpec(shape=(128,), dtype=tf.int32),\n",
    "                                                  'attention_mask': tf.TensorSpec(shape=(128,), dtype=tf.int32),\n",
    "                                                  'token_type_ids': tf.TensorSpec(shape=(128,), dtype=tf.int32)\n",
    "                                              },\n",
    "                                              tf.TensorSpec(shape=(), dtype=tf.int64)\n",
    "                                          )).batch(batch_size)\n",
    "\n",
    "BATCH_SIZE = 64 \n",
    "\n",
    "# Convert datasets to TensorFlow format\n",
    "train_dataset = to_tf_dataset(train_encoded, BATCH_SIZE).shuffle(1000)\n",
    "val_dataset = to_tf_dataset(val_encoded, BATCH_SIZE)\n",
    "test_dataset = to_tf_dataset(test_encoded, BATCH_SIZE)"
   ]
  },
  {
   "cell_type": "code",
   "execution_count": 10,
   "metadata": {
    "execution": {
     "iopub.execute_input": "2024-06-04T07:54:48.797315Z",
     "iopub.status.busy": "2024-06-04T07:54:48.797013Z",
     "iopub.status.idle": "2024-06-04T07:54:48.820250Z",
     "shell.execute_reply": "2024-06-04T07:54:48.819548Z",
     "shell.execute_reply.started": "2024-06-04T07:54:48.797283Z"
    }
   },
   "outputs": [],
   "source": [
    "# Define the classification model\n",
    "class BERTForClassification(tf.keras.Model):\n",
    "    def __init__(self, bert_model, num_classes):\n",
    "        super().__init__()\n",
    "        self.bert = bert_model\n",
    "        self.fc = tf.keras.layers.Dense(num_classes, activation='softmax')\n",
    "        \n",
    "    def call(self, inputs):\n",
    "        x = self.bert(inputs)[1]\n",
    "        return self.fc(x)\n"
   ]
  },
  {
   "cell_type": "code",
   "execution_count": 11,
   "metadata": {
    "execution": {
     "iopub.execute_input": "2024-06-04T07:54:48.821530Z",
     "iopub.status.busy": "2024-06-04T07:54:48.821265Z",
     "iopub.status.idle": "2024-06-04T07:54:48.847474Z",
     "shell.execute_reply": "2024-06-04T07:54:48.846782Z",
     "shell.execute_reply.started": "2024-06-04T07:54:48.821507Z"
    }
   },
   "outputs": [],
   "source": [
    "classifier = BERTForClassification(model, num_classes=2)\n",
    "\n",
    "# Note: Use a mixed precision optimizer for better performance\n",
    "optimizer = tf.keras.optimizers.Adam(learning_rate=1e-5)\n",
    "\n",
    "classifier.compile(\n",
    "    optimizer=optimizer,\n",
    "    loss=tf.keras.losses.SparseCategoricalCrossentropy(),\n",
    "    metrics=['accuracy']\n",
    ")\n"
   ]
  },
  {
   "cell_type": "code",
   "execution_count": 12,
   "metadata": {
    "execution": {
     "iopub.execute_input": "2024-06-04T07:54:48.849088Z",
     "iopub.status.busy": "2024-06-04T07:54:48.848740Z",
     "iopub.status.idle": "2024-06-04T09:43:19.156975Z",
     "shell.execute_reply": "2024-06-04T09:43:19.156147Z",
     "shell.execute_reply.started": "2024-06-04T07:54:48.849058Z"
    }
   },
   "outputs": [
    {
     "name": "stdout",
     "output_type": "stream",
     "text": [
      "Epoch 1/4\n"
     ]
    },
    {
     "name": "stderr",
     "output_type": "stream",
     "text": [
      "WARNING: All log messages before absl::InitializeLog() is called are written to STDERR\n",
      "I0000 00:00:1717487872.786757    3841 device_compiler.h:186] Compiled cluster using XLA!  This line is logged at most once for the lifetime of the process.\n"
     ]
    },
    {
     "name": "stdout",
     "output_type": "stream",
     "text": [
      "1534/1534 [==============================] - 1701s 981ms/step - loss: 0.6134 - accuracy: 0.6487 - val_loss: 0.5692 - val_accuracy: 0.6888\n",
      "Epoch 2/4\n",
      "1534/1534 [==============================] - 1605s 973ms/step - loss: 0.5460 - accuracy: 0.7103 - val_loss: 0.5554 - val_accuracy: 0.6908\n",
      "Epoch 3/4\n",
      "1534/1534 [==============================] - 1601s 971ms/step - loss: 0.4858 - accuracy: 0.7527 - val_loss: 0.5440 - val_accuracy: 0.7152\n",
      "Epoch 4/4\n",
      "1534/1534 [==============================] - 1602s 972ms/step - loss: 0.4180 - accuracy: 0.7978 - val_loss: 0.5611 - val_accuracy: 0.7249\n"
     ]
    }
   ],
   "source": [
    "history = classifier.fit(\n",
    "    train_dataset,\n",
    "    validation_data=val_dataset,\n",
    "    epochs=4,\n",
    "    verbose=1  # Add verbosity to see training progress\n",
    ")"
   ]
  },
  {
   "cell_type": "code",
   "execution_count": 13,
   "metadata": {
    "execution": {
     "iopub.execute_input": "2024-06-04T09:43:19.159558Z",
     "iopub.status.busy": "2024-06-04T09:43:19.159263Z",
     "iopub.status.idle": "2024-06-04T09:46:41.103614Z",
     "shell.execute_reply": "2024-06-04T09:46:41.102483Z",
     "shell.execute_reply.started": "2024-06-04T09:43:19.159532Z"
    }
   },
   "outputs": [
    {
     "name": "stdout",
     "output_type": "stream",
     "text": [
      "439/439 [==============================] - 170s 386ms/step - loss: 0.5668 - accuracy: 0.7206\n"
     ]
    },
    {
     "data": {
      "text/plain": [
       "[0.5668364763259888, 0.7205845713615417]"
      ]
     },
     "execution_count": 13,
     "metadata": {},
     "output_type": "execute_result"
    }
   ],
   "source": [
    "classifier.evaluate(test_dataset)"
   ]
  },
  {
   "cell_type": "code",
   "execution_count": 14,
   "metadata": {
    "execution": {
     "iopub.execute_input": "2024-06-04T09:46:41.105320Z",
     "iopub.status.busy": "2024-06-04T09:46:41.104937Z",
     "iopub.status.idle": "2024-06-04T09:46:41.109917Z",
     "shell.execute_reply": "2024-06-04T09:46:41.109008Z",
     "shell.execute_reply.started": "2024-06-04T09:46:41.105292Z"
    }
   },
   "outputs": [],
   "source": [
    "# Save the trained BERT model and tokenizer\n",
    "model_save_path = \"/kaggle/working/saved_model\"\n",
    "tokenizer_save_path = \"/kaggle/working/saved_tokenizer\"\n",
    "classifier_save_path = \"/kaggle/working/saved_classifier\""
   ]
  },
  {
   "cell_type": "code",
   "execution_count": 15,
   "metadata": {
    "execution": {
     "iopub.execute_input": "2024-06-04T09:46:41.112111Z",
     "iopub.status.busy": "2024-06-04T09:46:41.111388Z",
     "iopub.status.idle": "2024-06-04T09:47:55.669006Z",
     "shell.execute_reply": "2024-06-04T09:47:55.668144Z",
     "shell.execute_reply.started": "2024-06-04T09:46:41.112078Z"
    }
   },
   "outputs": [],
   "source": [
    "# Save the BERT model inside the classifier\n",
    "classifier.bert.save_pretrained(model_save_path)\n",
    "\n",
    "# Save the tokenizer\n",
    "tokenizer.save_pretrained(tokenizer_save_path)\n",
    "\n",
    "# Save the entire classifier model\n",
    "classifier.save(classifier_save_path)"
   ]
  },
  {
   "cell_type": "code",
   "execution_count": null,
   "metadata": {},
   "outputs": [],
   "source": [
    "# Load the tokenizer\n",
    "#tokenizer = AutoTokenizer.from_pretrained(tokenizer_save_path)\n",
    "\n",
    "# Load the BERT model\n",
    "#bert_model = TFAutoModel.from_pretrained(model_save_path)\n",
    "\n",
    "# Instantiate the classifier with the loaded BERT model\n",
    "#classifier = BERTForClassification(bert_model, num_classes=2)\n",
    "\n",
    "# Compile the classifier (necessary before using it)\n",
    "#classifier.compile(\n",
    "#    optimizer=tf.keras.optimizers.Adam(learning_rate=1e-5),\n",
    "#    loss=tf.keras.losses.SparseCategoricalCrossentropy(),\n",
    "#    metrics=['accuracy']\n",
    "#)"
   ]
  },
  {
   "cell_type": "code",
   "execution_count": 16,
   "metadata": {
    "execution": {
     "iopub.execute_input": "2024-06-04T09:48:09.388816Z",
     "iopub.status.busy": "2024-06-04T09:48:09.388431Z",
     "iopub.status.idle": "2024-06-04T09:48:09.455099Z",
     "shell.execute_reply": "2024-06-04T09:48:09.454379Z",
     "shell.execute_reply.started": "2024-06-04T09:48:09.388786Z"
    }
   },
   "outputs": [],
   "source": [
    "import re\n",
    "\n",
    "def extract_country_code(file_path):\n",
    "    match = re.search(r'orientation-([a-z]{2}(?:-[a-z]{2})?)-train.tsv', file_path)\n",
    "    if match:\n",
    "        return match.group(1)\n",
    "    print(\"No match found from: {file_path}\")\n",
    "    return None\n",
    "\n",
    "# Add country code to the data\n",
    "test_data['country_code'] = test_data['file_path'].apply(extract_country_code)"
   ]
  },
  {
   "cell_type": "code",
   "execution_count": 17,
   "metadata": {
    "execution": {
     "iopub.execute_input": "2024-06-04T09:48:28.675755Z",
     "iopub.status.busy": "2024-06-04T09:48:28.675379Z",
     "iopub.status.idle": "2024-06-04T09:48:28.682704Z",
     "shell.execute_reply": "2024-06-04T09:48:28.681617Z",
     "shell.execute_reply.started": "2024-06-04T09:48:28.675725Z"
    }
   },
   "outputs": [],
   "source": [
    "# Function to get predictions (ne koristim)\n",
    "def get_predictions(dataset):\n",
    "    predictions = []\n",
    "    labels = []\n",
    "    for batch in dataset:\n",
    "        inputs, label = batch\n",
    "        inputs = {key: tf.convert_to_tensor(val) for key, val in inputs.items()}\n",
    "        logits = classifier(inputs, training=False)\n",
    "        predictions.extend(logits.numpy())\n",
    "        # predictions.extend(tf.nn.softmax(logits).numpy())\n",
    "        labels.extend(label.numpy())\n",
    "    return np.array(predictions), np.array(labels)"
   ]
  },
  {
   "cell_type": "code",
   "execution_count": 19,
   "metadata": {
    "execution": {
     "iopub.execute_input": "2024-06-04T09:49:45.535733Z",
     "iopub.status.busy": "2024-06-04T09:49:45.534823Z",
     "iopub.status.idle": "2024-06-04T09:49:45.539831Z",
     "shell.execute_reply": "2024-06-04T09:49:45.538827Z",
     "shell.execute_reply.started": "2024-06-04T09:49:45.535698Z"
    }
   },
   "outputs": [],
   "source": [
    "import numpy as np"
   ]
  },
  {
   "cell_type": "code",
   "execution_count": null,
   "metadata": {},
   "outputs": [],
   "source": [
    "# Get predictions for test data (ne)\n",
    "predictions, labels = get_predictions(test_dataset)"
   ]
  },
  {
   "cell_type": "code",
   "execution_count": 20,
   "metadata": {
    "execution": {
     "iopub.execute_input": "2024-06-04T09:49:48.277047Z",
     "iopub.status.busy": "2024-06-04T09:49:48.276415Z",
     "iopub.status.idle": "2024-06-04T09:50:38.238933Z",
     "shell.execute_reply": "2024-06-04T09:50:38.237844Z",
     "shell.execute_reply.started": "2024-06-04T09:49:48.277013Z"
    }
   },
   "outputs": [],
   "source": [
    "labels = []\n",
    "for batch in test_dataset:\n",
    "    inputs, label = batch\n",
    "    labels.extend(label.numpy())\n",
    "labels = np.array(labels)"
   ]
  },
  {
   "cell_type": "code",
   "execution_count": 21,
   "metadata": {
    "execution": {
     "iopub.execute_input": "2024-06-04T09:50:38.241218Z",
     "iopub.status.busy": "2024-06-04T09:50:38.240709Z",
     "iopub.status.idle": "2024-06-04T09:53:37.952500Z",
     "shell.execute_reply": "2024-06-04T09:53:37.951604Z",
     "shell.execute_reply.started": "2024-06-04T09:50:38.241182Z"
    }
   },
   "outputs": [
    {
     "name": "stdout",
     "output_type": "stream",
     "text": [
      "439/439 [==============================] - 179s 386ms/step\n"
     ]
    }
   ],
   "source": [
    "predictions = classifier.predict(test_dataset)\n"
   ]
  },
  {
   "cell_type": "code",
   "execution_count": 23,
   "metadata": {
    "execution": {
     "iopub.execute_input": "2024-06-04T09:54:03.518176Z",
     "iopub.status.busy": "2024-06-04T09:54:03.517786Z",
     "iopub.status.idle": "2024-06-04T09:54:03.524718Z",
     "shell.execute_reply": "2024-06-04T09:54:03.523784Z",
     "shell.execute_reply.started": "2024-06-04T09:54:03.518147Z"
    }
   },
   "outputs": [
    {
     "data": {
      "text/plain": [
       "array([[0.19082616, 0.8091738 ],\n",
       "       [0.6520297 , 0.3479703 ],\n",
       "       [0.04097091, 0.9590291 ],\n",
       "       ...,\n",
       "       [0.56715745, 0.43284252],\n",
       "       [0.35139558, 0.64860445],\n",
       "       [0.47302273, 0.52697724]], dtype=float32)"
      ]
     },
     "execution_count": 23,
     "metadata": {},
     "output_type": "execute_result"
    }
   ],
   "source": [
    "predictions"
   ]
  },
  {
   "cell_type": "code",
   "execution_count": 30,
   "metadata": {
    "execution": {
     "iopub.execute_input": "2024-06-04T09:56:04.843037Z",
     "iopub.status.busy": "2024-06-04T09:56:04.842642Z",
     "iopub.status.idle": "2024-06-04T09:56:04.850323Z",
     "shell.execute_reply": "2024-06-04T09:56:04.849274Z",
     "shell.execute_reply.started": "2024-06-04T09:56:04.843005Z"
    }
   },
   "outputs": [],
   "source": [
    "def calculate_mean_probabilities(data, predictions, labels):\n",
    "    country_means = {}\n",
    "    for country in data['country_code'].unique():\n",
    "        print(f\"Processing country: {country}\")\n",
    "        country_indices = data['country_code'] == country\n",
    "        country_labels = labels[country_indices]\n",
    "        country_predictions = predictions[country_indices]\n",
    "        if country_labels.size > 0:  \n",
    "            right_mean = np.mean(country_predictions[country_labels == 1][:, 1])\n",
    "            left_mean = np.mean(country_predictions[country_labels == 0][:, 0])\n",
    "            country_means[country] = (right_mean, left_mean)\n",
    "            print(f\"Country: {country}, Right Mean: {right_mean}, Left Mean: {left_mean}\")\n",
    "        else:\n",
    "            print(f\"No data for country: {country}\")\n",
    "    return country_means\n",
    "\n"
   ]
  },
  {
   "cell_type": "code",
   "execution_count": 31,
   "metadata": {
    "execution": {
     "iopub.execute_input": "2024-06-04T09:56:06.967282Z",
     "iopub.status.busy": "2024-06-04T09:56:06.966453Z",
     "iopub.status.idle": "2024-06-04T09:56:07.114302Z",
     "shell.execute_reply": "2024-06-04T09:56:07.113355Z",
     "shell.execute_reply.started": "2024-06-04T09:56:06.967249Z"
    }
   },
   "outputs": [
    {
     "name": "stdout",
     "output_type": "stream",
     "text": [
      "Processing country: gr\n",
      "Country: gr, Right Mean: 0.6246136426925659, Left Mean: 0.4744565486907959\n",
      "Processing country: es\n",
      "Country: es, Right Mean: 0.6830650568008423, Left Mean: 0.5892194509506226\n",
      "Processing country: fr\n",
      "Country: fr, Right Mean: 0.7182421684265137, Left Mean: 0.40848493576049805\n",
      "Processing country: no\n",
      "Country: no, Right Mean: 0.555167555809021, Left Mean: 0.6017467975616455\n",
      "Processing country: dk\n",
      "Country: dk, Right Mean: 0.5594102144241333, Left Mean: 0.6494012475013733\n",
      "Processing country: is\n",
      "Country: is, Right Mean: 0.6355341076850891, Left Mean: 0.4689466655254364\n",
      "Processing country: tr\n",
      "Country: tr, Right Mean: 0.8056628108024597, Left Mean: 0.7283297181129456\n",
      "Processing country: lv\n",
      "Country: lv, Right Mean: 0.8569368720054626, Left Mean: 0.36756041646003723\n",
      "Processing country: si\n",
      "Country: si, Right Mean: 0.3485317528247833, Left Mean: 0.7035935521125793\n",
      "Processing country: cz\n",
      "Country: cz, Right Mean: 0.6614951491355896, Left Mean: 0.4519161880016327\n",
      "Processing country: at\n",
      "Country: at, Right Mean: 0.6729776263237, Left Mean: 0.425258994102478\n",
      "Processing country: ba\n",
      "Country: ba, Right Mean: 0.8134700655937195, Left Mean: 0.26789066195487976\n",
      "Processing country: it\n",
      "Country: it, Right Mean: 0.7942430973052979, Left Mean: 0.702936589717865\n",
      "Processing country: hr\n",
      "Country: hr, Right Mean: 0.781451940536499, Left Mean: 0.32243654131889343\n",
      "Processing country: gb\n",
      "Country: gb, Right Mean: 0.7772847414016724, Left Mean: 0.6655035614967346\n",
      "Processing country: hu\n",
      "Country: hu, Right Mean: 0.7971819639205933, Left Mean: 0.4419249892234802\n",
      "Processing country: pl\n",
      "Country: pl, Right Mean: 0.9200498461723328, Left Mean: 0.3605729937553406\n",
      "Processing country: es-ga\n",
      "Country: es-ga, Right Mean: 0.6846006512641907, Left Mean: 0.6737940311431885\n",
      "Processing country: be\n",
      "Country: be, Right Mean: 0.684927225112915, Left Mean: 0.3927004039287567\n",
      "Processing country: se\n",
      "Country: se, Right Mean: 0.6563239097595215, Left Mean: 0.6115582585334778\n",
      "Processing country: rs\n",
      "Country: rs, Right Mean: 0.8771465420722961, Left Mean: 0.34781181812286377\n",
      "Processing country: ee\n",
      "Country: ee, Right Mean: 0.6539318561553955, Left Mean: 0.4248226583003998\n",
      "Processing country: ua\n",
      "Country: ua, Right Mean: 0.8777021765708923, Left Mean: 0.42441049218177795\n",
      "Processing country: pt\n",
      "Country: pt, Right Mean: 0.4975886344909668, Left Mean: 0.646732747554779\n",
      "Processing country: fi\n",
      "Country: fi, Right Mean: 0.6012594103813171, Left Mean: 0.5017319917678833\n",
      "Processing country: nl\n",
      "Country: nl, Right Mean: 0.700513482093811, Left Mean: 0.4101421535015106\n",
      "Processing country: es-ct\n",
      "Country: es-ct, Right Mean: 0.6421119570732117, Left Mean: 0.5054111480712891\n",
      "Processing country: bg\n",
      "Country: bg, Right Mean: 0.7222040295600891, Left Mean: 0.4842226505279541\n",
      "Country Means: {'gr': (0.62461364, 0.47445655), 'es': (0.68306506, 0.58921945), 'fr': (0.71824217, 0.40848494), 'no': (0.55516756, 0.6017468), 'dk': (0.5594102, 0.64940125), 'is': (0.6355341, 0.46894667), 'tr': (0.8056628, 0.7283297), 'lv': (0.8569369, 0.36756042), 'si': (0.34853175, 0.70359355), 'cz': (0.66149515, 0.4519162), 'at': (0.6729776, 0.425259), 'ba': (0.81347007, 0.26789066), 'it': (0.7942431, 0.7029366), 'hr': (0.78145194, 0.32243654), 'gb': (0.77728474, 0.66550356), 'hu': (0.79718196, 0.441925), 'pl': (0.92004985, 0.360573), 'es-ga': (0.68460065, 0.67379403), 'be': (0.6849272, 0.3927004), 'se': (0.6563239, 0.61155826), 'rs': (0.87714654, 0.34781182), 'ee': (0.65393186, 0.42482266), 'ua': (0.8777022, 0.4244105), 'pt': (0.49758863, 0.64673275), 'fi': (0.6012594, 0.501732), 'nl': (0.7005135, 0.41014215), 'es-ct': (0.64211196, 0.50541115), 'bg': (0.722204, 0.48422265)}\n"
     ]
    }
   ],
   "source": [
    "# Calculate mean probabilities for each country\n",
    "country_means = calculate_mean_probabilities(test_data, predictions, labels)\n",
    "\n",
    "# Check the resulting country means\n",
    "print(f\"Country Means: {country_means}\")"
   ]
  },
  {
   "cell_type": "code",
   "execution_count": 32,
   "metadata": {
    "execution": {
     "iopub.execute_input": "2024-06-04T09:56:17.328576Z",
     "iopub.status.busy": "2024-06-04T09:56:17.327703Z",
     "iopub.status.idle": "2024-06-04T09:56:17.334214Z",
     "shell.execute_reply": "2024-06-04T09:56:17.333120Z",
     "shell.execute_reply.started": "2024-06-04T09:56:17.328544Z"
    }
   },
   "outputs": [],
   "source": [
    "from matplotlib import pyplot as plt\n",
    "%matplotlib inline"
   ]
  },
  {
   "cell_type": "code",
   "execution_count": 39,
   "metadata": {
    "execution": {
     "iopub.execute_input": "2024-06-04T09:57:55.079816Z",
     "iopub.status.busy": "2024-06-04T09:57:55.079116Z",
     "iopub.status.idle": "2024-06-04T09:57:55.084991Z",
     "shell.execute_reply": "2024-06-04T09:57:55.084009Z",
     "shell.execute_reply.started": "2024-06-04T09:57:55.079782Z"
    }
   },
   "outputs": [],
   "source": [
    "# Plot the results\n",
    "countries = list(country_means.keys())\n",
    "right_means = [country_means[c][0] for c in countries]\n",
    "left_means = [country_means[c][1] for c in countries]\n"
   ]
  },
  {
   "cell_type": "code",
   "execution_count": 41,
   "metadata": {
    "execution": {
     "iopub.execute_input": "2024-06-04T09:58:05.435375Z",
     "iopub.status.busy": "2024-06-04T09:58:05.434685Z",
     "iopub.status.idle": "2024-06-04T09:58:05.949600Z",
     "shell.execute_reply": "2024-06-04T09:58:05.948615Z",
     "shell.execute_reply.started": "2024-06-04T09:58:05.435342Z"
    }
   },
   "outputs": [
    {
     "data": {
      "text/plain": [
       "Text(0.5, 1.0, 'Right-Wing Mean Probabilities by Country')"
      ]
     },
     "execution_count": 41,
     "metadata": {},
     "output_type": "execute_result"
    },
    {
     "data": {
      "image/png": "[encoded data removed]",
      "text/plain": [
       "<Figure size 1500x900 with 1 Axes>"
      ]
     },
     "metadata": {},
     "output_type": "display_data"
    }
   ],
   "source": [
    "# Plot right-wing mean probabilities\n",
    "plt.figure(figsize=(15, 9))\n",
    "plt.barh(countries, right_means, color='blue')\n",
    "plt.xlabel('Mean Probability')\n",
    "plt.title('Right-Wing Mean Probabilities by Country')"
   ]
  },
  {
   "cell_type": "code",
   "execution_count": 42,
   "metadata": {
    "execution": {
     "iopub.execute_input": "2024-06-04T10:00:04.761857Z",
     "iopub.status.busy": "2024-06-04T10:00:04.760956Z",
     "iopub.status.idle": "2024-06-04T10:00:05.197236Z",
     "shell.execute_reply": "2024-06-04T10:00:05.196268Z",
     "shell.execute_reply.started": "2024-06-04T10:00:04.761822Z"
    }
   },
   "outputs": [
    {
     "data": {
      "image/png": "[encoded data removed]",
      "text/plain": [
       "<Figure size 1500x900 with 1 Axes>"
      ]
     },
     "metadata": {},
     "output_type": "display_data"
    }
   ],
   "source": [
    "# Plot left-wing mean probabilities\n",
    "plt.figure(figsize=(15, 9))\n",
    "plt.barh(countries, left_means, color='red')\n",
    "plt.xlabel('Mean Probability')\n",
    "plt.title('Left-Wing Mean Probabilities by Country')\n",
    "\n",
    "plt.tight_layout()\n",
    "plt.show()"
   ]
  }
 ],
 "metadata": {
  "kaggle": {
   "accelerator": "gpu",
   "dataSources": [
    {
     "datasetId": 5142582,
     "sourceId": 8596198,
     "sourceType": "datasetVersion"
    }
   ],
   "dockerImageVersionId": 30715,
   "isGpuEnabled": true,
   "isInternetEnabled": true,
   "language": "python",
   "sourceType": "notebook"
  },
  "kernelspec": {
   "display_name": "Python 3 (ipykernel)",
   "language": "python",
   "name": "python3"
  },
  "language_info": {
   "codemirror_mode": {
    "name": "ipython",
    "version": 3
   },
   "file_extension": ".py",
   "mimetype": "text/x-python",
   "name": "python",
   "nbconvert_exporter": "python",
   "pygments_lexer": "ipython3",
   "version": "3.10.9"
  }
 },
 "nbformat": 4,
 "nbformat_minor": 4
}
